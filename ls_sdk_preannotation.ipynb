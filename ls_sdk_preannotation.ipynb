{
 "cells": [
  {
   "cell_type": "markdown",
   "metadata": {},
   "source": [
    "## 1. YOLO 모델 불러오기 및 예측 함수\n",
    "- 이 코드는 Ultralytics YOLO 모델을 불러오고, 이미지에 대한 예측 결과를 Label Studio 형식으로 변환해 반환하는 함수(predict_yolo)를 정의합니다."
   ]
  },
  {
   "cell_type": "code",
   "execution_count": 1,
   "metadata": {},
   "outputs": [],
   "source": [
    "from ultralytics import YOLO\n",
    "\n",
    "#MODEL_NAME = \"yolov8n.pt\"\n",
    "#MODEL_NAME = \"yolov8s.pt\"\n",
    "#MODEL_NAME = \"yolov8m.pt\"\n",
    "MODEL_NAME = \"./runs/detect/yolov8n_scratch_with_rotation_aug/weights/best.pt\"\n",
    "model = YOLO(MODEL_NAME)\n",
    "\n",
    "def predict_yolo(images):\n",
    "    results = model(images)\n",
    "    predictions = []\n",
    "    for result in results:\n",
    "        #img_width, img_height = result.orig_shape\n",
    "        img_height, img_width = result.orig_shape\n",
    "        boxes = result.boxes.cpu().numpy()\n",
    "        prediction = {'result': [], 'score': 0.0, 'model_version': MODEL_NAME}\n",
    "        scores = []\n",
    "        for box, class_id, score in zip(boxes.xywh, boxes.cls, boxes.conf):\n",
    "            x, y, w, h = box\n",
    "            prediction['result'].append({\n",
    "                'from_name': 'label',\n",
    "                'to_name': 'img',\n",
    "                'original_width': int(img_width),\n",
    "                'original_height': int(img_height),\n",
    "                'image_rotation': 0,\n",
    "                'value': {\n",
    "                    'rotation': 0,\n",
    "                    'rectanglelabels': [result.names[class_id]],\n",
    "                    'width': w / img_width * 100,\n",
    "                    'height': h / img_height * 100,\n",
    "                    'x': (x - 0.5 * w) / img_width * 100,\n",
    "                    'y': (y - 0.5 * h) / img_height * 100\n",
    "                },\n",
    "                'score': float(score),\n",
    "                'type': 'rectanglelabels',\n",
    "            })\n",
    "            scores.append(float(score))\n",
    "        prediction['score'] = min(scores) if scores else 0.0\n",
    "        predictions.append(prediction)\n",
    "    return predictions"
   ]
  },
  {
   "cell_type": "markdown",
   "metadata": {},
   "source": [
    "## 2. YOLO 라벨 설정 생성\n",
    "- YOLO 모델에서 제공하는 클래스 이름들을 Label Studio에 맞는 XML 형식의 라벨 설정으로 변환하여 출력하는 코드입니다."
   ]
  },
  {
   "cell_type": "code",
   "execution_count": 2,
   "metadata": {},
   "outputs": [
    {
     "name": "stdout",
     "output_type": "stream",
     "text": [
      "\n",
      "<View>\n",
      "    <Image name=\"img\" value=\"$image\" zoom=\"true\" width=\"100%\" maxWidth=\"800\" brightnessControl=\"true\" contrastControl=\"true\" gammaControl=\"true\" />\n",
      "    <RectangleLabels name=\"label\" toName=\"img\">\n",
      "    <Label value=\"person\"/>\n",
      "<Label value=\"bicycle\"/>\n",
      "<Label value=\"car\"/>\n",
      "<Label value=\"motorcycle\"/>\n",
      "<Label value=\"airplane\"/>\n",
      "<Label value=\"bus\"/>\n",
      "<Label value=\"train\"/>\n",
      "<Label value=\"truck\"/>\n",
      "<Label value=\"boat\"/>\n",
      "<Label value=\"traffic light\"/>\n",
      "<Label value=\"fire hydrant\"/>\n",
      "<Label value=\"stop sign\"/>\n",
      "<Label value=\"parking meter\"/>\n",
      "<Label value=\"bench\"/>\n",
      "<Label value=\"bird\"/>\n",
      "<Label value=\"cat\"/>\n",
      "<Label value=\"dog\"/>\n",
      "<Label value=\"horse\"/>\n",
      "<Label value=\"sheep\"/>\n",
      "<Label value=\"cow\"/>\n",
      "<Label value=\"elephant\"/>\n",
      "<Label value=\"bear\"/>\n",
      "<Label value=\"zebra\"/>\n",
      "<Label value=\"giraffe\"/>\n",
      "<Label value=\"backpack\"/>\n",
      "<Label value=\"umbrella\"/>\n",
      "<Label value=\"handbag\"/>\n",
      "<Label value=\"tie\"/>\n",
      "<Label value=\"suitcase\"/>\n",
      "<Label value=\"frisbee\"/>\n",
      "<Label value=\"skis\"/>\n",
      "<Label value=\"snowboard\"/>\n",
      "<Label value=\"sports ball\"/>\n",
      "<Label value=\"kite\"/>\n",
      "<Label value=\"baseball bat\"/>\n",
      "<Label value=\"baseball glove\"/>\n",
      "<Label value=\"skateboard\"/>\n",
      "<Label value=\"surfboard\"/>\n",
      "<Label value=\"tennis racket\"/>\n",
      "<Label value=\"bottle\"/>\n",
      "<Label value=\"wine glass\"/>\n",
      "<Label value=\"cup\"/>\n",
      "<Label value=\"fork\"/>\n",
      "<Label value=\"knife\"/>\n",
      "<Label value=\"spoon\"/>\n",
      "<Label value=\"bowl\"/>\n",
      "<Label value=\"banana\"/>\n",
      "<Label value=\"apple\"/>\n",
      "<Label value=\"sandwich\"/>\n",
      "<Label value=\"orange\"/>\n",
      "<Label value=\"broccoli\"/>\n",
      "<Label value=\"carrot\"/>\n",
      "<Label value=\"hot dog\"/>\n",
      "<Label value=\"pizza\"/>\n",
      "<Label value=\"donut\"/>\n",
      "<Label value=\"cake\"/>\n",
      "<Label value=\"chair\"/>\n",
      "<Label value=\"couch\"/>\n",
      "<Label value=\"potted plant\"/>\n",
      "<Label value=\"bed\"/>\n",
      "<Label value=\"dining table\"/>\n",
      "<Label value=\"toilet\"/>\n",
      "<Label value=\"tv\"/>\n",
      "<Label value=\"laptop\"/>\n",
      "<Label value=\"mouse\"/>\n",
      "<Label value=\"remote\"/>\n",
      "<Label value=\"keyboard\"/>\n",
      "<Label value=\"cell phone\"/>\n",
      "<Label value=\"microwave\"/>\n",
      "<Label value=\"oven\"/>\n",
      "<Label value=\"toaster\"/>\n",
      "<Label value=\"sink\"/>\n",
      "<Label value=\"refrigerator\"/>\n",
      "<Label value=\"book\"/>\n",
      "<Label value=\"clock\"/>\n",
      "<Label value=\"vase\"/>\n",
      "<Label value=\"scissors\"/>\n",
      "<Label value=\"teddy bear\"/>\n",
      "<Label value=\"hair drier\"/>\n",
      "<Label value=\"toothbrush\"/>\n",
      "    </RectangleLabels>\n",
      "</View>\n"
     ]
    }
   ],
   "source": [
    "yolo_labels = '\\n'.join([f'<Label value=\"{label}\"/>' for label in model.names.values()])\n",
    "label_config = f'''\n",
    "<View>\n",
    "    <Image name=\"img\" value=\"$image\" zoom=\"true\" width=\"100%\" maxWidth=\"800\" brightnessControl=\"true\" contrastControl=\"true\" gammaControl=\"true\" />\n",
    "    <RectangleLabels name=\"label\" toName=\"img\">\n",
    "    {yolo_labels}\n",
    "    </RectangleLabels>\n",
    "</View>'''\n",
    "print(label_config)"
   ]
  },
  {
   "cell_type": "markdown",
   "metadata": {},
   "source": [
    "## 3. Label Studio 클라이언트 초기화\n",
    "- .env 파일에서 API 키를 불러와 Label Studio SDK를 사용하기 위한 클라이언트를 초기화하는 코드입니다."
   ]
  },
  {
   "cell_type": "code",
   "execution_count": 2,
   "metadata": {},
   "outputs": [],
   "source": [
    "import os\n",
    "from dotenv import load_dotenv\n",
    "from label_studio_sdk.client import LabelStudio\n",
    "\n",
    "load_dotenv()\n",
    "\n",
    "API_KEY = os.getenv('LABEL_STUDIO_API_KEY')\n",
    "\n",
    "client = LabelStudio(api_key=API_KEY)\n"
   ]
  },
  {
   "cell_type": "markdown",
   "metadata": {},
   "source": [
    "## 4. 프로젝트 생성\n",
    "- Label Studio에서 사용할 새 프로젝트를 생성하고, 간단한 설명과 함께 라벨 설정(label_config)을 적용합니다."
   ]
  },
  {
   "cell_type": "code",
   "execution_count": 4,
   "metadata": {},
   "outputs": [],
   "source": [
    "project = client.projects.create(\n",
    "    title='Pre-annotation_test',\n",
    "    description='Pre-annotation testing using the YOLO model',\n",
    "    label_config=label_config\n",
    ")"
   ]
  },
  {
   "cell_type": "markdown",
   "metadata": {},
   "source": [
    "## 5. 모든 프로젝트 목록 확인\n",
    "- 현재 로그인된 Label Studio 계정에서 사용 가능한 모든 프로젝트 목록을 확인합니다."
   ]
  },
  {
   "cell_type": "code",
   "execution_count": 3,
   "metadata": {},
   "outputs": [
    {
     "name": "stdout",
     "output_type": "stream",
     "text": [
      "33 yolo_polygon\n",
      "32 tire_yolo_test\n",
      "31 Pre-annotation_test\n",
      "29 Object detection general picture direct import\n",
      "28 Object detection general picture\n",
      "27 Object detection modify\n",
      "26 New Project #9\n",
      "25 Object detection with yolov8n.pt\n",
      "24 Object detection import json\n",
      "21 Object detection\n",
      "17 test2_json\n",
      "16 json import\n",
      "11 test_json\n",
      "7 test_LocalStorage\n",
      "1 test_import\n"
     ]
    }
   ],
   "source": [
    "for project in client.projects.list():\n",
    "    print(project.id, project.title)"
   ]
  },
  {
   "cell_type": "markdown",
   "metadata": {},
   "source": [
    "## 6. 특정 프로젝트 가져오기\n",
    "- 특정 ID(여기서는 31번)에 해당하는 프로젝트를 가져옵니다."
   ]
  },
  {
   "cell_type": "code",
   "execution_count": 4,
   "metadata": {},
   "outputs": [],
   "source": [
    "project = client.projects.get(id=33)"
   ]
  },
  {
   "cell_type": "markdown",
   "metadata": {},
   "source": [
    "## 7. 로컬 Import 스토리지 생성\n",
    "- 로컬 디렉터리에 있는 .json 파일들을 Label Studio에 가져오기 위한 Import 스토리지를 생성합니다."
   ]
  },
  {
   "cell_type": "code",
   "execution_count": null,
   "metadata": {},
   "outputs": [
    {
     "name": "stdout",
     "output_type": "stream",
     "text": [
      "Import storage created with ID: 35\n"
     ]
    }
   ],
   "source": [
    "storage = client.import_storage.local.create(\n",
    "    project=project.id,\n",
    "    path='C:/Users/82102/dev/labelstudio-duckdb-dbt-test/data/tasks_generalpictures' , \n",
    "    regex_filter='.*\\.json$',\n",
    "    use_blob_urls=False,\n",
    "    title='Json Files Storage',\n",
    "    description='Import local json files'\n",
    ")\n",
    "\n",
    "print(f\"Import storage created with ID: {storage.id}\")"
   ]
  },
  {
   "cell_type": "markdown",
   "metadata": {},
   "source": [
    "## 8. 로컬 Import 스토리지 동기화\n",
    "- 앞서 생성한 Import 스토리지(storage.id)를 동기화하여 Label Studio에 태스크를 등록합니다."
   ]
  },
  {
   "cell_type": "code",
   "execution_count": 8,
   "metadata": {},
   "outputs": [
    {
     "data": {
      "text/plain": [
       "LocalFilesImportStorage(id=35, type='localfiles', synchronizable=True, path='C:/Users/82102/dev/labelstudio-duckdb-dbt-test/data/tasks_generalpictures', regex_filter='.*\\\\.json$', use_blob_urls=False, last_sync=datetime.datetime(2025, 3, 13, 8, 49, 25, 326667, tzinfo=TzInfo(UTC)), last_sync_count=10, last_sync_job=None, status='completed', traceback=None, meta={'attempts': 1, 'time_queued': '2025-03-13 08:49:25.218165+00:00', 'time_in_progress': '2025-03-13 08:49:25.223752+00:00', 'time_last_ping': '2025-03-13 08:49:25.223752+00:00', 'time_completed': '2025-03-13 08:49:25.326667+00:00', 'duration': 0.102915, 'tasks_existed': 0}, title='Json Files Storage', description='Import local json files', created_at=datetime.datetime(2025, 3, 13, 8, 49, 22, 358450, tzinfo=TzInfo(UTC)), project=31)"
      ]
     },
     "execution_count": 8,
     "metadata": {},
     "output_type": "execute_result"
    }
   ],
   "source": [
    "client.import_storage.local.sync(id=storage.id)"
   ]
  },
  {
   "cell_type": "markdown",
   "metadata": {},
   "source": [
    "## 9. 로컬 Export 스토리지 생성\n",
    "- 주석(Annotation) 결과를 로컬 디렉터리에 JSON 파일로 내보내기 위한 Export 스토리지를 생성합니다."
   ]
  },
  {
   "cell_type": "code",
   "execution_count": null,
   "metadata": {},
   "outputs": [
    {
     "name": "stdout",
     "output_type": "stream",
     "text": [
      "Target storage created with ID: 36\n"
     ]
    }
   ],
   "source": [
    "\n",
    "target_storage = client.export_storage.local.create(\n",
    "    project=project.id,\n",
    "    path='C:/Users/82102/dev/labelstudio-duckdb-dbt-test/data/export',\n",
    "    title='Local Target Storage',\n",
    "    description='Export annotations to local JSON files'\n",
    ")\n",
    "\n",
    "print(f\"Target storage created with ID: {target_storage.id}\")"
   ]
  },
  {
   "cell_type": "markdown",
   "metadata": {},
   "source": [
    "## 10. 로컬 Export 스토리지 동기화\n",
    "- 생성한 Export 스토리지(target_storage.id)를 동기화하여 주석 데이터를 로컬 디렉터리에 저장합니다."
   ]
  },
  {
   "cell_type": "code",
   "execution_count": 10,
   "metadata": {},
   "outputs": [
    {
     "data": {
      "text/plain": [
       "LocalFilesExportStorage(id=36, type='localfiles', synchronizable=True, path='C:/Users/82102/dev/labelstudio-duckdb-dbt-test/data/export', regex_filter=None, use_blob_urls=False, last_sync=datetime.datetime(2025, 3, 13, 8, 49, 31, 243487, tzinfo=TzInfo(UTC)), last_sync_count=0, last_sync_job=None, status='completed', traceback=None, meta={'attempts': 2, 'time_queued': '2025-03-13 08:49:31.228836+00:00', 'time_in_progress': '2025-03-13 08:49:31.236365+00:00', 'time_last_ping': '2025-03-13 08:49:31.236365+00:00', 'time_completed': '2025-03-13 08:49:31.243487+00:00', 'duration': 0.007122, 'total_annotations': 0}, title='Local Target Storage', description='Export annotations to local JSON files', created_at=datetime.datetime(2025, 3, 13, 8, 49, 28, 292440, tzinfo=TzInfo(UTC)), can_delete_objects=None, project=31)"
      ]
     },
     "execution_count": 10,
     "metadata": {},
     "output_type": "execute_result"
    }
   ],
   "source": [
    "client.export_storage.local.sync(id=target_storage.id)"
   ]
  },
  {
   "cell_type": "markdown",
   "metadata": {},
   "source": [
    "## 11. 모델 추론 및 예측 결과 생성\n",
    "- Label Studio에 등록된 태스크 목록을 가져와, 각 이미지에 대해 YOLO 모델을 사용하여 예측을 수행하고, 예측 결과를 Label Studio에 저장합니다. 테스트를 위해 10개 정도까지만 예측을 수행합니다."
   ]
  },
  {
   "cell_type": "code",
   "execution_count": 6,
   "metadata": {},
   "outputs": [
    {
     "name": "stderr",
     "output_type": "stream",
     "text": [
      "  0%|          | 0/25 [00:00<?, ?it/s]"
     ]
    },
    {
     "name": "stdout",
     "output_type": "stream",
     "text": [
      "\n",
      "0: 480x640 (no detections), 54.7ms\n",
      "Speed: 2.6ms preprocess, 54.7ms inference, 2.6ms postprocess per image at shape (1, 3, 480, 640)\n"
     ]
    },
    {
     "name": "stderr",
     "output_type": "stream",
     "text": [
      "  4%|▍         | 1/25 [00:02<00:55,  2.31s/it]"
     ]
    },
    {
     "name": "stdout",
     "output_type": "stream",
     "text": [
      "\n",
      "0: 480x640 (no detections), 42.8ms\n",
      "Speed: 3.1ms preprocess, 42.8ms inference, 2.3ms postprocess per image at shape (1, 3, 480, 640)\n"
     ]
    },
    {
     "name": "stderr",
     "output_type": "stream",
     "text": [
      "  8%|▊         | 2/25 [00:04<00:53,  2.31s/it]"
     ]
    },
    {
     "name": "stdout",
     "output_type": "stream",
     "text": [
      "\n",
      "0: 480x640 (no detections), 45.7ms\n",
      "Speed: 3.0ms preprocess, 45.7ms inference, 2.5ms postprocess per image at shape (1, 3, 480, 640)\n"
     ]
    },
    {
     "name": "stderr",
     "output_type": "stream",
     "text": [
      " 12%|█▏        | 3/25 [00:06<00:50,  2.29s/it]"
     ]
    },
    {
     "name": "stdout",
     "output_type": "stream",
     "text": [
      "\n",
      "0: 480x640 (no detections), 55.2ms\n",
      "Speed: 3.5ms preprocess, 55.2ms inference, 2.5ms postprocess per image at shape (1, 3, 480, 640)\n"
     ]
    },
    {
     "name": "stderr",
     "output_type": "stream",
     "text": [
      " 16%|█▌        | 4/25 [00:09<00:48,  2.31s/it]"
     ]
    },
    {
     "name": "stdout",
     "output_type": "stream",
     "text": [
      "\n",
      "0: 480x640 (no detections), 43.8ms\n",
      "Speed: 3.2ms preprocess, 43.8ms inference, 2.4ms postprocess per image at shape (1, 3, 480, 640)\n"
     ]
    },
    {
     "name": "stderr",
     "output_type": "stream",
     "text": [
      " 20%|██        | 5/25 [00:11<00:46,  2.30s/it]"
     ]
    },
    {
     "name": "stdout",
     "output_type": "stream",
     "text": [
      "\n",
      "0: 480x640 (no detections), 43.6ms\n",
      "Speed: 4.0ms preprocess, 43.6ms inference, 2.4ms postprocess per image at shape (1, 3, 480, 640)\n"
     ]
    },
    {
     "name": "stderr",
     "output_type": "stream",
     "text": [
      " 24%|██▍       | 6/25 [00:13<00:43,  2.31s/it]"
     ]
    },
    {
     "name": "stdout",
     "output_type": "stream",
     "text": [
      "\n",
      "0: 480x640 (no detections), 55.2ms\n",
      "Speed: 2.9ms preprocess, 55.2ms inference, 2.5ms postprocess per image at shape (1, 3, 480, 640)\n"
     ]
    },
    {
     "name": "stderr",
     "output_type": "stream",
     "text": [
      " 28%|██▊       | 7/25 [00:16<00:41,  2.32s/it]"
     ]
    },
    {
     "name": "stdout",
     "output_type": "stream",
     "text": [
      "\n",
      "0: 480x640 (no detections), 46.9ms\n",
      "Speed: 3.5ms preprocess, 46.9ms inference, 2.4ms postprocess per image at shape (1, 3, 480, 640)\n"
     ]
    },
    {
     "name": "stderr",
     "output_type": "stream",
     "text": [
      " 32%|███▏      | 8/25 [00:18<00:39,  2.32s/it]"
     ]
    },
    {
     "name": "stdout",
     "output_type": "stream",
     "text": [
      "\n",
      "0: 480x640 (no detections), 94.5ms\n",
      "Speed: 6.6ms preprocess, 94.5ms inference, 2.7ms postprocess per image at shape (1, 3, 480, 640)\n"
     ]
    },
    {
     "name": "stderr",
     "output_type": "stream",
     "text": [
      " 36%|███▌      | 9/25 [00:20<00:37,  2.35s/it]"
     ]
    },
    {
     "name": "stdout",
     "output_type": "stream",
     "text": [
      "\n",
      "0: 480x640 (no detections), 46.1ms\n",
      "Speed: 3.6ms preprocess, 46.1ms inference, 2.9ms postprocess per image at shape (1, 3, 480, 640)\n"
     ]
    },
    {
     "name": "stderr",
     "output_type": "stream",
     "text": [
      " 40%|████      | 10/25 [00:23<00:35,  2.34s/it]"
     ]
    },
    {
     "name": "stdout",
     "output_type": "stream",
     "text": [
      "\n",
      "0: 480x640 (no detections), 43.8ms\n",
      "Speed: 3.4ms preprocess, 43.8ms inference, 2.8ms postprocess per image at shape (1, 3, 480, 640)\n"
     ]
    },
    {
     "name": "stderr",
     "output_type": "stream",
     "text": [
      " 44%|████▍     | 11/25 [00:25<00:32,  2.33s/it]"
     ]
    },
    {
     "name": "stdout",
     "output_type": "stream",
     "text": [
      "\n",
      "0: 480x640 (no detections), 48.3ms\n",
      "Speed: 3.7ms preprocess, 48.3ms inference, 2.7ms postprocess per image at shape (1, 3, 480, 640)\n"
     ]
    },
    {
     "name": "stderr",
     "output_type": "stream",
     "text": [
      " 48%|████▊     | 12/25 [00:27<00:30,  2.34s/it]"
     ]
    },
    {
     "name": "stdout",
     "output_type": "stream",
     "text": [
      "\n",
      "0: 480x640 (no detections), 46.6ms\n",
      "Speed: 3.0ms preprocess, 46.6ms inference, 2.5ms postprocess per image at shape (1, 3, 480, 640)\n"
     ]
    },
    {
     "name": "stderr",
     "output_type": "stream",
     "text": [
      " 52%|█████▏    | 13/25 [00:30<00:28,  2.34s/it]"
     ]
    },
    {
     "name": "stdout",
     "output_type": "stream",
     "text": [
      "\n",
      "0: 480x640 (no detections), 43.1ms\n",
      "Speed: 2.9ms preprocess, 43.1ms inference, 2.3ms postprocess per image at shape (1, 3, 480, 640)\n"
     ]
    },
    {
     "name": "stderr",
     "output_type": "stream",
     "text": [
      " 56%|█████▌    | 14/25 [00:32<00:25,  2.34s/it]"
     ]
    },
    {
     "name": "stdout",
     "output_type": "stream",
     "text": [
      "\n",
      "0: 480x640 (no detections), 53.5ms\n",
      "Speed: 2.9ms preprocess, 53.5ms inference, 3.0ms postprocess per image at shape (1, 3, 480, 640)\n"
     ]
    },
    {
     "name": "stderr",
     "output_type": "stream",
     "text": [
      " 60%|██████    | 15/25 [00:34<00:23,  2.36s/it]"
     ]
    },
    {
     "name": "stdout",
     "output_type": "stream",
     "text": [
      "\n",
      "0: 480x640 (no detections), 43.6ms\n",
      "Speed: 3.2ms preprocess, 43.6ms inference, 2.6ms postprocess per image at shape (1, 3, 480, 640)\n"
     ]
    },
    {
     "name": "stderr",
     "output_type": "stream",
     "text": [
      " 64%|██████▍   | 16/25 [00:37<00:21,  2.36s/it]"
     ]
    },
    {
     "name": "stdout",
     "output_type": "stream",
     "text": [
      "\n",
      "0: 480x640 (no detections), 46.5ms\n",
      "Speed: 3.5ms preprocess, 46.5ms inference, 2.4ms postprocess per image at shape (1, 3, 480, 640)\n"
     ]
    },
    {
     "name": "stderr",
     "output_type": "stream",
     "text": [
      " 68%|██████▊   | 17/25 [00:39<00:18,  2.36s/it]"
     ]
    },
    {
     "name": "stdout",
     "output_type": "stream",
     "text": [
      "\n",
      "0: 480x640 (no detections), 44.9ms\n",
      "Speed: 2.9ms preprocess, 44.9ms inference, 2.5ms postprocess per image at shape (1, 3, 480, 640)\n"
     ]
    },
    {
     "name": "stderr",
     "output_type": "stream",
     "text": [
      " 72%|███████▏  | 18/25 [00:42<00:16,  2.36s/it]"
     ]
    },
    {
     "name": "stdout",
     "output_type": "stream",
     "text": [
      "\n",
      "0: 480x640 (no detections), 46.5ms\n",
      "Speed: 4.2ms preprocess, 46.5ms inference, 2.5ms postprocess per image at shape (1, 3, 480, 640)\n"
     ]
    },
    {
     "name": "stderr",
     "output_type": "stream",
     "text": [
      " 76%|███████▌  | 19/25 [00:44<00:14,  2.35s/it]"
     ]
    },
    {
     "name": "stdout",
     "output_type": "stream",
     "text": [
      "\n",
      "0: 480x640 (no detections), 52.8ms\n",
      "Speed: 2.5ms preprocess, 52.8ms inference, 2.9ms postprocess per image at shape (1, 3, 480, 640)\n"
     ]
    },
    {
     "name": "stderr",
     "output_type": "stream",
     "text": [
      " 80%|████████  | 20/25 [00:46<00:11,  2.35s/it]"
     ]
    },
    {
     "name": "stdout",
     "output_type": "stream",
     "text": [
      "\n",
      "0: 480x640 (no detections), 47.9ms\n",
      "Speed: 3.6ms preprocess, 47.9ms inference, 2.5ms postprocess per image at shape (1, 3, 480, 640)\n"
     ]
    },
    {
     "name": "stderr",
     "output_type": "stream",
     "text": [
      " 84%|████████▍ | 21/25 [00:49<00:09,  2.35s/it]"
     ]
    },
    {
     "name": "stdout",
     "output_type": "stream",
     "text": [
      "\n",
      "0: 480x640 (no detections), 46.3ms\n",
      "Speed: 3.3ms preprocess, 46.3ms inference, 2.4ms postprocess per image at shape (1, 3, 480, 640)\n"
     ]
    },
    {
     "name": "stderr",
     "output_type": "stream",
     "text": [
      " 88%|████████▊ | 22/25 [00:51<00:07,  2.35s/it]"
     ]
    },
    {
     "name": "stdout",
     "output_type": "stream",
     "text": [
      "\n",
      "0: 480x640 (no detections), 62.8ms\n",
      "Speed: 4.3ms preprocess, 62.8ms inference, 2.9ms postprocess per image at shape (1, 3, 480, 640)\n"
     ]
    },
    {
     "name": "stderr",
     "output_type": "stream",
     "text": [
      " 92%|█████████▏| 23/25 [00:53<00:04,  2.35s/it]"
     ]
    },
    {
     "name": "stdout",
     "output_type": "stream",
     "text": [
      "\n",
      "0: 480x640 (no detections), 44.2ms\n",
      "Speed: 3.1ms preprocess, 44.2ms inference, 2.3ms postprocess per image at shape (1, 3, 480, 640)\n"
     ]
    },
    {
     "name": "stderr",
     "output_type": "stream",
     "text": [
      " 96%|█████████▌| 24/25 [00:56<00:02,  2.34s/it]"
     ]
    },
    {
     "name": "stdout",
     "output_type": "stream",
     "text": [
      "\n",
      "0: 480x640 (no detections), 44.9ms\n",
      "Speed: 4.1ms preprocess, 44.9ms inference, 2.4ms postprocess per image at shape (1, 3, 480, 640)\n"
     ]
    },
    {
     "name": "stderr",
     "output_type": "stream",
     "text": [
      "100%|██████████| 25/25 [00:58<00:00,  2.34s/it]\n"
     ]
    }
   ],
   "source": [
    "\n",
    "from PIL import Image\n",
    "import requests\n",
    "from tqdm import tqdm\n",
    "\n",
    "tasks = [t.dict() for t in client.tasks.list(project=project.id)]\n",
    "\n",
    "for i, task in enumerate(tqdm(tasks)):\n",
    "    url = f'http://localhost:8080{task[\"data\"][\"image\"]}'\n",
    "    image = Image.open(requests.get(url, headers={'Authorization': f'Token {API_KEY}'}, stream=True).raw)\n",
    "    predictions = predict_yolo([image])[0]\n",
    "    # predictions 생성 시 task id는 원래 객체에 의존하므로, 만약 필요하면 t['id']로도 사용할 수 있음\n",
    "    client.predictions.create(task=task[\"id\"], result=predictions[\"result\"], score=predictions[\"score\"], model_version=predictions[\"model_version\"])\n",
    "    if i > 30:\n",
    "        break"
   ]
  },
  {
   "cell_type": "markdown",
   "metadata": {},
   "source": [
    "## 12. 모델 버전 변경 함수\n",
    "- YOLO 모델 버전을 변경하고, Label Studio 프로젝트 설정도 업데이트하는 함수를 정의합니다."
   ]
  },
  {
   "cell_type": "code",
   "execution_count": 7,
   "metadata": {},
   "outputs": [],
   "source": [
    "import requests\n",
    "import json\n",
    "\n",
    "def change_model_version(model_name):\n",
    "    global MODEL_NAME  \n",
    "    MODEL_NAME = model_name\n",
    "    model = YOLO(MODEL_NAME)  \n",
    "    \n",
    "\n",
    "    headers = {\n",
    "        'Authorization': f'Token {API_KEY}',\n",
    "        'Content-Type': 'application/json'\n",
    "    }\n",
    "    \n",
    "    update_data = {\n",
    "        \"model_version\": MODEL_NAME,\n",
    "        \"show_collab_predictions\": True\n",
    "    }\n",
    "    \n",
    "    \n",
    "    url = f\"http://localhost:8080/api/projects/{project.id}/\"\n",
    "    response = requests.patch(url, headers=headers, data=json.dumps(update_data))\n",
    "    \n",
    "    if response.status_code == 200:\n",
    "        print(f\"모델을 {MODEL_NAME}으로 변경했습니다.\")\n",
    "        return True\n",
    "    else:\n",
    "        print(f\"모델 변경 실패: {response.status_code}\")\n",
    "        print(response.text)\n",
    "        return False\n"
   ]
  },
  {
   "cell_type": "markdown",
   "metadata": {},
   "source": [
    "## 13. 모델 버전 변경 실행\n",
    "- 앞서 정의한 change_model_version 함수를 사용하여 모델 버전을 변경합니다.\n",
    "- 추론한 모델명으로 변경해야 UI의 Prediction score 에 반영이 됩니다."
   ]
  },
  {
   "cell_type": "code",
   "execution_count": 8,
   "metadata": {},
   "outputs": [
    {
     "name": "stdout",
     "output_type": "stream",
     "text": [
      "모델을 yolov8s.pt으로 변경했습니다.\n"
     ]
    },
    {
     "data": {
      "text/plain": [
       "True"
      ]
     },
     "execution_count": 8,
     "metadata": {},
     "output_type": "execute_result"
    }
   ],
   "source": [
    "change_model_version(\"yolov8s.pt\")"
   ]
  },
  {
   "cell_type": "markdown",
   "metadata": {},
   "source": [
    "## 14. 태스크 객체 정보 확인\n",
    "- Label Studio에서 가져온 태스크 객체(Task)의 속성과 메서드를 확인하고, 태스크 내용을 딕셔너리로 변환하여 키 목록을 출력합니다."
   ]
  },
  {
   "cell_type": "code",
   "execution_count": null,
   "metadata": {},
   "outputs": [
    {
     "name": "stdout",
     "output_type": "stream",
     "text": [
      "Available attributes and methods:\n",
      "['__class__', '__class_getitem__', '__contains__', '__delattr__', '__delitem__', '__dir__', '__doc__', '__eq__', '__format__', '__ge__', '__getattribute__', '__getitem__', '__gt__', '__hash__', '__init__', '__init_subclass__', '__ior__', '__iter__', '__le__', '__len__', '__lt__', '__ne__', '__new__', '__or__', '__reduce__', '__reduce_ex__', '__repr__', '__reversed__', '__ror__', '__setattr__', '__setitem__', '__sizeof__', '__str__', '__subclasshook__', 'clear', 'copy', 'fromkeys', 'get', 'items', 'keys', 'pop', 'popitem', 'setdefault', 'update', 'values']\n",
      "\n",
      "Task contents:\n",
      "{'id': 195, 'predictions': [], 'annotations': [], 'drafts': [], 'annotators': [], 'inner_id': 1, 'cancelled_annotations': 0, 'total_annotations': 0, 'total_predictions': 0, 'storage_filename': 'C:\\\\Users\\\\82102\\\\dev\\\\labelstudio-duckdb-dbt-test\\\\data\\\\tasks_generalpictures\\\\20230401_202954.json', 'draft_exists': False, 'updated_by': [], 'data': {'image': '/data/local-files/?d=data/samples_generalpictures/20230401_202954.jpg'}, 'meta': {}, 'created_at': datetime.datetime(2025, 3, 13, 8, 49, 25, 234320, tzinfo=TzInfo(UTC)), 'updated_at': datetime.datetime(2025, 3, 13, 8, 49, 25, 234320, tzinfo=TzInfo(UTC)), 'is_labeled': False, 'overlap': 1.0, 'comment_count': 0, 'unresolved_comment_count': 0, 'project': 31, 'comment_authors': [], 'annotations_results': '', 'predictions_results': '', 'annotations_ids': '', 'predictions_model_versions': '', 'completed_at': None, 'file_upload': None, 'avg_lead_time': None, 'last_comment_updated_at': None, 'predictions_score': None}\n",
      "\n",
      "Dictionary keys:\n",
      "dict_keys(['id', 'predictions', 'annotations', 'drafts', 'annotators', 'inner_id', 'cancelled_annotations', 'total_annotations', 'total_predictions', 'storage_filename', 'draft_exists', 'updated_by', 'data', 'meta', 'created_at', 'updated_at', 'is_labeled', 'overlap', 'comment_count', 'unresolved_comment_count', 'project', 'comment_authors', 'annotations_results', 'predictions_results', 'annotations_ids', 'predictions_model_versions', 'completed_at', 'file_upload', 'avg_lead_time', 'last_comment_updated_at', 'predictions_score'])\n"
     ]
    }
   ],
   "source": [
    "\n",
    "tasks_list = list(tasks)\n",
    "task = tasks_list[0]\n",
    "\n",
    "\n",
    "print(\"Available attributes and methods:\")\n",
    "print(dir(task))\n",
    "\n",
    "\n",
    "print(\"\\nTask contents:\")\n",
    "print(task)\n",
    "\n",
    "\n",
    "print(\"\\nDictionary keys:\")\n",
    "print(task.keys())"
   ]
  },
  {
   "cell_type": "markdown",
   "metadata": {},
   "source": [
    "## 15. 태스크 소스파일(JSON 형식) 확인\n",
    "- 태스크 데이터를 JSON 형태로 변환하여 구조를 확인합니다.\n"
   ]
  },
  {
   "cell_type": "code",
   "execution_count": null,
   "metadata": {},
   "outputs": [
    {
     "name": "stdout",
     "output_type": "stream",
     "text": [
      "Task Source Code (JSON format):\n",
      "{\n",
      "  \"id\": 195,\n",
      "  \"predictions\": [],\n",
      "  \"annotations\": [],\n",
      "  \"drafts\": [],\n",
      "  \"annotators\": [],\n",
      "  \"inner_id\": 1,\n",
      "  \"cancelled_annotations\": 0,\n",
      "  \"total_annotations\": 0,\n",
      "  \"total_predictions\": 0,\n",
      "  \"storage_filename\": \"C:\\\\Users\\\\82102\\\\dev\\\\labelstudio-duckdb-dbt-test\\\\data\\\\tasks_generalpictures\\\\20230401_202954.json\",\n",
      "  \"draft_exists\": false,\n",
      "  \"updated_by\": [],\n",
      "  \"data\": {\n",
      "    \"image\": \"/data/local-files/?d=data/samples_generalpictures/20230401_202954.jpg\"\n",
      "  },\n",
      "  \"meta\": {},\n",
      "  \"created_at\": \"2025-03-13T08:49:25.234320+00:00\",\n",
      "  \"updated_at\": \"2025-03-13T08:49:25.234320+00:00\",\n",
      "  \"is_labeled\": false,\n",
      "  \"overlap\": 1.0,\n",
      "  \"comment_count\": 0,\n",
      "  \"unresolved_comment_count\": 0,\n",
      "  \"project\": 31,\n",
      "  \"comment_authors\": [],\n",
      "  \"annotations_results\": \"\",\n",
      "  \"predictions_results\": \"\",\n",
      "  \"annotations_ids\": \"\",\n",
      "  \"predictions_model_versions\": \"\",\n",
      "  \"completed_at\": null,\n",
      "  \"file_upload\": null,\n",
      "  \"avg_lead_time\": null,\n",
      "  \"last_comment_updated_at\": null,\n",
      "  \"predictions_score\": null\n",
      "}\n"
     ]
    }
   ],
   "source": [
    "\n",
    "import json\n",
    "from datetime import datetime\n",
    "\n",
    "tasks_list = list(tasks)\n",
    "task = tasks_list[0]\n",
    "\n",
    "def datetime_handler(obj):\n",
    "    if isinstance(obj, datetime):\n",
    "        return obj.isoformat()\n",
    "    raise TypeError(f\"Object of type {type(obj)} is not JSON serializable\")\n",
    "\n",
    "\n",
    "task_json = json.dumps(task, indent=2, default=datetime_handler)\n",
    "\n",
    "print(\"Task Source Code (JSON format):\")\n",
    "print(task_json)"
   ]
  }
 ],
 "metadata": {
  "kernelspec": {
   "display_name": ".venv",
   "language": "python",
   "name": "python3"
  },
  "language_info": {
   "codemirror_mode": {
    "name": "ipython",
    "version": 3
   },
   "file_extension": ".py",
   "mimetype": "text/x-python",
   "name": "python",
   "nbconvert_exporter": "python",
   "pygments_lexer": "ipython3",
   "version": "3.10.0"
  }
 },
 "nbformat": 4,
 "nbformat_minor": 2
}
