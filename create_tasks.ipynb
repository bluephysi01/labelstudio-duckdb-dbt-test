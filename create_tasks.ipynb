{
 "cells": [
  {
   "cell_type": "code",
   "execution_count": 3,
   "metadata": {},
   "outputs": [
    {
     "name": "stdout",
     "output_type": "stream",
     "text": [
      "✅ 이미지별 JSON 파일이 C:\\Users\\82102\\dev\\labelstudio-duckdb-dbt-test\\data\\tasks_generalpictures 경로에 저장되었습니다.\n"
     ]
    }
   ],
   "source": [
    "import os\n",
    "import json\n",
    "\n",
    "# 이미지 폴더 및 JSON 파일 경로\n",
    "samples_dir = \"data/samples_generalpictures\"  # 이미지 폴더\n",
    "tasks_dir = r\"C:\\Users\\82102\\dev\\labelstudio-duckdb-dbt-test\\data\\tasks_generalpictures\"  # JSON 저장 폴더\n",
    "\n",
    "# tasks 폴더가 없으면 생성\n",
    "os.makedirs(tasks_dir, exist_ok=True)\n",
    "\n",
    "# 이미지 파일 리스트 가져오기\n",
    "image_files = [f for f in os.listdir(samples_dir) if f.lower().endswith(('.png', '.jpg', '.jpeg'))]\n",
    "\n",
    "# 각 이미지마다 JSON 파일 생성\n",
    "for idx, img in enumerate(image_files):\n",
    "    # 파일명에서 확장자 제거 (확장자 없는 파일명)\n",
    "    file_name_without_ext = os.path.splitext(img)[0]\n",
    "    \n",
    "    # 단일 이미지 데이터 생성\n",
    "    image_data = {\n",
    "        \"id\": idx + 1,  # Task ID (1부터 시작)\n",
    "        \"data\": {\n",
    "            \"image\": f\"/data/local-files/?d=data/samples_generalpictures/{img}\"\n",
    "        }\n",
    "    }\n",
    "    \n",
    "    # 이미지 파일명으로 JSON 파일 저장\n",
    "    json_file_path = os.path.join(tasks_dir, f\"{file_name_without_ext}.json\")\n",
    "    \n",
    "    with open(json_file_path, \"w\", encoding=\"utf-8\") as json_file:\n",
    "        json.dump(image_data, json_file, indent=4, ensure_ascii=False)\n",
    "\n",
    "print(f\"✅ 이미지별 JSON 파일이 {tasks_dir} 경로에 저장되었습니다.\")"
   ]
  },
  {
   "cell_type": "code",
   "execution_count": 4,
   "metadata": {},
   "outputs": [
    {
     "name": "stdout",
     "output_type": "stream",
     "text": [
      "✅ 이미지별 JSON 파일이 C:\\Users\\82102\\dev\\labelstudio-duckdb-dbt-test\\data\\tasks_tires 경로에 저장되었습니다.\n"
     ]
    }
   ],
   "source": [
    "import os\n",
    "import json\n",
    "\n",
    "# 이미지 폴더 및 JSON 파일 경로\n",
    "samples_dir = \"data/samples_tires\"  # 이미지 폴더\n",
    "tasks_dir = r\"C:\\Users\\82102\\dev\\labelstudio-duckdb-dbt-test\\data\\tasks_tires\"  # JSON 저장 폴더\n",
    "\n",
    "# tasks 폴더가 없으면 생성\n",
    "os.makedirs(tasks_dir, exist_ok=True)\n",
    "\n",
    "# 이미지 파일 리스트 가져오기\n",
    "image_files = [f for f in os.listdir(samples_dir) if f.lower().endswith(('.png', '.jpg', '.jpeg'))]\n",
    "\n",
    "# 각 이미지마다 JSON 파일 생성\n",
    "for idx, img in enumerate(image_files):\n",
    "    # 파일명에서 확장자 제거 (확장자 없는 파일명)\n",
    "    file_name_without_ext = os.path.splitext(img)[0]\n",
    "    \n",
    "    # 단일 이미지 데이터 생성\n",
    "    image_data = {\n",
    "        \"id\": idx + 1,  # Task ID (1부터 시작)\n",
    "        \"data\": {\n",
    "            \"image\": f\"/data/local-files/?d=data/samples_tires/{img}\"\n",
    "        }\n",
    "    }\n",
    "    \n",
    "    # 이미지 파일명으로 JSON 파일 저장\n",
    "    json_file_path = os.path.join(tasks_dir, f\"{file_name_without_ext}.json\")\n",
    "    \n",
    "    with open(json_file_path, \"w\", encoding=\"utf-8\") as json_file:\n",
    "        json.dump(image_data, json_file, indent=4, ensure_ascii=False)\n",
    "\n",
    "print(f\"✅ 이미지별 JSON 파일이 {tasks_dir} 경로에 저장되었습니다.\")"
   ]
  }
 ],
 "metadata": {
  "kernelspec": {
   "display_name": ".venv",
   "language": "python",
   "name": "python3"
  },
  "language_info": {
   "codemirror_mode": {
    "name": "ipython",
    "version": 3
   },
   "file_extension": ".py",
   "mimetype": "text/x-python",
   "name": "python",
   "nbconvert_exporter": "python",
   "pygments_lexer": "ipython3",
   "version": "3.10.0"
  }
 },
 "nbformat": 4,
 "nbformat_minor": 2
}
