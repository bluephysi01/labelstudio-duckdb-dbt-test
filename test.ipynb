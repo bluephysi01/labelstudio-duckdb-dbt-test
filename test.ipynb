{
 "cells": [
  {
   "cell_type": "code",
   "execution_count": 2,
   "metadata": {},
   "outputs": [
    {
     "name": "stdout",
     "output_type": "stream",
     "text": [
      "✅ JSON 파일이 저장되었습니다: data/json\\image_data.json\n"
     ]
    }
   ],
   "source": [
    "import os\n",
    "import json\n",
    "\n",
    "# 이미지 폴더 및 JSON 파일 경로\n",
    "samples_dir = \"data/samples\"  # 이미지 폴더\n",
    "json_dir = \"data/json\"  # JSON 저장 폴더\n",
    "json_file_path = os.path.join(json_dir, \"image_data.json\")  # JSON 파일 경로\n",
    "\n",
    "# json 폴더가 없으면 생성\n",
    "os.makedirs(json_dir, exist_ok=True)\n",
    "\n",
    "# 이미지 파일 리스트 가져오기\n",
    "image_files = [f for f in os.listdir(samples_dir) if f.lower().endswith(('.png', '.jpg', '.jpeg'))]\n",
    "\n",
    "# Label Studio에서 인식할 수 있도록 JSON 변환\n",
    "image_data = [\n",
    "    {\n",
    "        \"id\": idx + 1,  # Task ID (1부터 시작)\n",
    "        \"data\": {\n",
    "            \"ocr\": f\"/data/local-files/?d=data/samples/{img}\"\n",
    "        }\n",
    "    }\n",
    "    for idx, img in enumerate(image_files)\n",
    "]\n",
    "\n",
    "# JSON 파일 저장\n",
    "with open(json_file_path, \"w\", encoding=\"utf-8\") as json_file:\n",
    "    json.dump(image_data, json_file, indent=4, ensure_ascii=False)\n",
    "\n",
    "print(f\"✅ JSON 파일이 저장되었습니다: {json_file_path}\")\n"
   ]
  }
 ],
 "metadata": {
  "kernelspec": {
   "display_name": ".venv",
   "language": "python",
   "name": "python3"
  },
  "language_info": {
   "codemirror_mode": {
    "name": "ipython",
    "version": 3
   },
   "file_extension": ".py",
   "mimetype": "text/x-python",
   "name": "python",
   "nbconvert_exporter": "python",
   "pygments_lexer": "ipython3",
   "version": "3.10.0"
  }
 },
 "nbformat": 4,
 "nbformat_minor": 2
}
